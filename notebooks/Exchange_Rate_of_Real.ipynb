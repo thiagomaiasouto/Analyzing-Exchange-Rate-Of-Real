{
  "nbformat": 4,
  "nbformat_minor": 0,
  "metadata": {
    "colab": {
      "name": "Cópia de Exchange_Rate_of_Real.ipynb",
      "provenance": [],
      "collapsed_sections": []
    },
    "kernelspec": {
      "name": "python3",
      "display_name": "Python 3"
    },
    "language_info": {
      "name": "python"
    }
  },
  "cells": [
    {
      "cell_type": "markdown",
      "metadata": {
        "id": "CfCjAbBQQ9li"
      },
      "source": [
        "#Daily exchange rates USD-REAL between 2000 and 2021:\n",
        "###Group Members:\n",
        "\n",
        "\n",
        "\n",
        "*   Arthur França Pessoa da Cunha Lima\n",
        "*   Thiago Maia Souto\n",
        "\n",
        "\n",
        "\n",
        "\n",
        "\n"
      ]
    },
    {
      "cell_type": "code",
      "metadata": {
        "id": "UGVmPv0AKido"
      },
      "source": [
        "import pandas as pd\n",
        "import numpy as np\n"
      ],
      "execution_count": null,
      "outputs": []
    },
    {
      "cell_type": "code",
      "metadata": {
        "id": "B8i6uDHfNqQu",
        "colab": {
          "base_uri": "https://localhost:8080/"
        },
        "outputId": "3f814312-a946-4901-dbca-2c90cc9a2f38"
      },
      "source": [
        "from google.colab import drive\n",
        "drive.mount('/content/gdrive')"
      ],
      "execution_count": null,
      "outputs": [
        {
          "output_type": "stream",
          "name": "stdout",
          "text": [
            "Mounted at /content/gdrive\n"
          ]
        }
      ]
    },
    {
      "cell_type": "markdown",
      "metadata": {
        "id": "K6u3BFlck0kS"
      },
      "source": [
        "#0. Dataset 1\n",
        "\n",
        "### Initialy we used the dataset that can be found here(adicionar link) which contains daily exchange rates from multiples currency around the world."
      ]
    },
    {
      "cell_type": "code",
      "metadata": {
        "id": "oJpw6G3TXHBG",
        "colab": {
          "base_uri": "https://localhost:8080/",
          "height": 313
        },
        "outputId": "a74925d7-300a-419f-adcf-ecb029d72f3a"
      },
      "source": [
        "dataset1=\"/content/gdrive/MyDrive/Dataquest/ECB_FX_USD-base.csv\"\n",
        "dollar=pd.read_csv(dataset1,sep=\",\")\n",
        "dollar=dollar.drop(dollar.index[0])\n",
        "dollar.head(5)\n"
      ],
      "execution_count": null,
      "outputs": [
        {
          "output_type": "execute_result",
          "data": {
            "text/html": [
              "<div>\n",
              "<style scoped>\n",
              "    .dataframe tbody tr th:only-of-type {\n",
              "        vertical-align: middle;\n",
              "    }\n",
              "\n",
              "    .dataframe tbody tr th {\n",
              "        vertical-align: top;\n",
              "    }\n",
              "\n",
              "    .dataframe thead th {\n",
              "        text-align: right;\n",
              "    }\n",
              "</style>\n",
              "<table border=\"1\" class=\"dataframe\">\n",
              "  <thead>\n",
              "    <tr style=\"text-align: right;\">\n",
              "      <th></th>\n",
              "      <th>Date</th>\n",
              "      <th>EUR</th>\n",
              "      <th>JPY</th>\n",
              "      <th>BGN</th>\n",
              "      <th>CZK</th>\n",
              "      <th>DKK</th>\n",
              "      <th>GBP</th>\n",
              "      <th>HUF</th>\n",
              "      <th>PLN</th>\n",
              "      <th>RON</th>\n",
              "      <th>SEK</th>\n",
              "      <th>CHF</th>\n",
              "      <th>ISK</th>\n",
              "      <th>NOK</th>\n",
              "      <th>HRK</th>\n",
              "      <th>RUB</th>\n",
              "      <th>TRL</th>\n",
              "      <th>TRY</th>\n",
              "      <th>AUD</th>\n",
              "      <th>BRL</th>\n",
              "      <th>CAD</th>\n",
              "      <th>CNY</th>\n",
              "      <th>HKD</th>\n",
              "      <th>IDR</th>\n",
              "      <th>ILS</th>\n",
              "      <th>INR</th>\n",
              "      <th>KRW</th>\n",
              "      <th>MXN</th>\n",
              "      <th>MYR</th>\n",
              "      <th>NZD</th>\n",
              "      <th>PHP</th>\n",
              "      <th>SGD</th>\n",
              "      <th>THB</th>\n",
              "      <th>ZAR</th>\n",
              "    </tr>\n",
              "  </thead>\n",
              "  <tbody>\n",
              "    <tr>\n",
              "      <th>1</th>\n",
              "      <td>2021-11-18</td>\n",
              "      <td>0.881445570736007</td>\n",
              "      <td>114.2177170559718</td>\n",
              "      <td>1.7239312472454824</td>\n",
              "      <td>22.238871749669457</td>\n",
              "      <td>6.554605553107096</td>\n",
              "      <td>0.7419391802556191</td>\n",
              "      <td>320.5729396209784</td>\n",
              "      <td>4.104451300132217</td>\n",
              "      <td>4.362891141472014</td>\n",
              "      <td>8.863375936535919</td>\n",
              "      <td>0.9264874394006168</td>\n",
              "      <td>131.15910092551786</td>\n",
              "      <td>8.772410753635961</td>\n",
              "      <td>6.621419127368884</td>\n",
              "      <td>73.0013221683561</td>\n",
              "      <td>0.0</td>\n",
              "      <td>11.064081092992506</td>\n",
              "      <td>1.3732921992066989</td>\n",
              "      <td>5.538915821947994</td>\n",
              "      <td>1.260026443367122</td>\n",
              "      <td>6.38334067871309</td>\n",
              "      <td>7.7889819303658</td>\n",
              "      <td>14224.856765094755</td>\n",
              "      <td>3.079858968708682</td>\n",
              "      <td>74.23358307624504</td>\n",
              "      <td>1183.1291317761127</td>\n",
              "      <td>20.767298369325694</td>\n",
              "      <td>4.181489643014544</td>\n",
              "      <td>1.419656236227413</td>\n",
              "      <td>50.32966064345526</td>\n",
              "      <td>1.3581313353900395</td>\n",
              "      <td>32.63992948435434</td>\n",
              "      <td>15.620185103569854</td>\n",
              "    </tr>\n",
              "    <tr>\n",
              "      <th>2</th>\n",
              "      <td>2021-11-17</td>\n",
              "      <td>0.8837044892188053</td>\n",
              "      <td>114.68716861081656</td>\n",
              "      <td>1.7283492400141394</td>\n",
              "      <td>22.287027218098267</td>\n",
              "      <td>6.5716684340756455</td>\n",
              "      <td>0.7431071049840934</td>\n",
              "      <td>322.31353835277486</td>\n",
              "      <td>4.115500176740898</td>\n",
              "      <td>4.373718628490633</td>\n",
              "      <td>8.863821138211383</td>\n",
              "      <td>0.9305408271474019</td>\n",
              "      <td>132.37893248497704</td>\n",
              "      <td>8.739395546129375</td>\n",
              "      <td>6.638034641215977</td>\n",
              "      <td>72.53366914103924</td>\n",
              "      <td>0.0</td>\n",
              "      <td>10.480823612583952</td>\n",
              "      <td>1.3715977377165076</td>\n",
              "      <td>5.481442205726405</td>\n",
              "      <td>1.2553905973842348</td>\n",
              "      <td>6.377695298692117</td>\n",
              "      <td>7.78897136797455</td>\n",
              "      <td>14243.001060445387</td>\n",
              "      <td>3.0627430187345355</td>\n",
              "      <td>74.25768822905621</td>\n",
              "      <td>1181.8840579710147</td>\n",
              "      <td>20.70157299399081</td>\n",
              "      <td>4.17903852951573</td>\n",
              "      <td>1.428243195475433</td>\n",
              "      <td>50.32166843407565</td>\n",
              "      <td>1.3577235772357725</td>\n",
              "      <td>32.66967126193001</td>\n",
              "      <td>15.480381760339345</td>\n",
              "    </tr>\n",
              "    <tr>\n",
              "      <th>3</th>\n",
              "      <td>2021-11-16</td>\n",
              "      <td>0.8796622097114708</td>\n",
              "      <td>114.25932441942292</td>\n",
              "      <td>1.7204433497536946</td>\n",
              "      <td>22.191238564391274</td>\n",
              "      <td>6.541783954961295</td>\n",
              "      <td>0.7436048557353976</td>\n",
              "      <td>322.26425052779734</td>\n",
              "      <td>4.094387755102041</td>\n",
              "      <td>4.353712174524983</td>\n",
              "      <td>8.822396199859254</td>\n",
              "      <td>0.9261083743842364</td>\n",
              "      <td>132.3011963406052</td>\n",
              "      <td>8.696604503870514</td>\n",
              "      <td>6.606175228712174</td>\n",
              "      <td>73.18200211118929</td>\n",
              "      <td>0.0</td>\n",
              "      <td>10.205840957072484</td>\n",
              "      <td>1.3625967628430682</td>\n",
              "      <td>5.439655172413793</td>\n",
              "      <td>1.2533427163969035</td>\n",
              "      <td>6.388722730471499</td>\n",
              "      <td>7.788881069669247</td>\n",
              "      <td>14234.931386347642</td>\n",
              "      <td>3.0918367346938775</td>\n",
              "      <td>74.36699507389163</td>\n",
              "      <td>1181.3863476425051</td>\n",
              "      <td>20.62130541871921</td>\n",
              "      <td>4.165992258972555</td>\n",
              "      <td>1.4238212526389866</td>\n",
              "      <td>50.33866995073892</td>\n",
              "      <td>1.3540640394088668</td>\n",
              "      <td>32.68209007741027</td>\n",
              "      <td>15.233726249120336</td>\n",
              "    </tr>\n",
              "    <tr>\n",
              "      <th>4</th>\n",
              "      <td>2021-11-15</td>\n",
              "      <td>0.8738203425375742</td>\n",
              "      <td>113.87626703949667</td>\n",
              "      <td>1.7090178259349875</td>\n",
              "      <td>22.03512757777001</td>\n",
              "      <td>6.499038797623208</td>\n",
              "      <td>0.7441890947221251</td>\n",
              "      <td>319.80076896190144</td>\n",
              "      <td>4.052254456483747</td>\n",
              "      <td>4.325061167423978</td>\n",
              "      <td>8.744320167773505</td>\n",
              "      <td>0.9203949667948268</td>\n",
              "      <td>131.42257951765117</td>\n",
              "      <td>8.665938483047883</td>\n",
              "      <td>6.564837469416288</td>\n",
              "      <td>72.36184900384481</td>\n",
              "      <td>0.0</td>\n",
              "      <td>10.017738552953512</td>\n",
              "      <td>1.357654666200629</td>\n",
              "      <td>5.457707095421181</td>\n",
              "      <td>1.2525340789933588</td>\n",
              "      <td>6.381859489688919</td>\n",
              "      <td>7.790632645927996</td>\n",
              "      <td>14178.337993708494</td>\n",
              "      <td>3.1021495980426423</td>\n",
              "      <td>74.39968542467668</td>\n",
              "      <td>1179.9720377490387</td>\n",
              "      <td>20.543254106955608</td>\n",
              "      <td>4.1614819993009435</td>\n",
              "      <td>1.4133170220202724</td>\n",
              "      <td>50.077770010485835</td>\n",
              "      <td>1.3506641034603286</td>\n",
              "      <td>32.705347780496325</td>\n",
              "      <td>15.164715134568333</td>\n",
              "    </tr>\n",
              "    <tr>\n",
              "      <th>5</th>\n",
              "      <td>2021-11-12</td>\n",
              "      <td>0.8735150244584207</td>\n",
              "      <td>113.99371069182389</td>\n",
              "      <td>1.708420684835779</td>\n",
              "      <td>22.04577218728162</td>\n",
              "      <td>6.496331236897275</td>\n",
              "      <td>0.7468990216631726</td>\n",
              "      <td>319.83752620545073</td>\n",
              "      <td>4.055555555555555</td>\n",
              "      <td>4.322851153039832</td>\n",
              "      <td>8.742575122292102</td>\n",
              "      <td>0.9231306778476589</td>\n",
              "      <td>131.37665967854647</td>\n",
              "      <td>8.692173305380852</td>\n",
              "      <td>6.562106918238993</td>\n",
              "      <td>72.20903214535291</td>\n",
              "      <td>0.0</td>\n",
              "      <td>9.9569357092942</td>\n",
              "      <td>1.370545073375262</td>\n",
              "      <td>5.4072327044025155</td>\n",
              "      <td>1.2592592592592593</td>\n",
              "      <td>6.380765199161425</td>\n",
              "      <td>7.7922781271837875</td>\n",
              "      <td>14185.80538085255</td>\n",
              "      <td>3.1097134870719776</td>\n",
              "      <td>74.41736547868624</td>\n",
              "      <td>1178.4591194968552</td>\n",
              "      <td>20.656184486373167</td>\n",
              "      <td>4.165967854647099</td>\n",
              "      <td>1.4232180293501047</td>\n",
              "      <td>49.785988819007684</td>\n",
              "      <td>1.353424178895877</td>\n",
              "      <td>32.780398322851156</td>\n",
              "      <td>15.27943745632425</td>\n",
              "    </tr>\n",
              "  </tbody>\n",
              "</table>\n",
              "</div>"
            ],
            "text/plain": [
              "         Date                 EUR  ...                 THB                 ZAR\n",
              "1  2021-11-18   0.881445570736007  ...   32.63992948435434  15.620185103569854\n",
              "2  2021-11-17  0.8837044892188053  ...   32.66967126193001  15.480381760339345\n",
              "3  2021-11-16  0.8796622097114708  ...   32.68209007741027  15.233726249120336\n",
              "4  2021-11-15  0.8738203425375742  ...  32.705347780496325  15.164715134568333\n",
              "5  2021-11-12  0.8735150244584207  ...  32.780398322851156   15.27943745632425\n",
              "\n",
              "[5 rows x 34 columns]"
            ]
          },
          "metadata": {},
          "execution_count": 5
        }
      ]
    },
    {
      "cell_type": "code",
      "metadata": {
        "id": "2U9APoE4aDiI"
      },
      "source": [
        "dollar.info()"
      ],
      "execution_count": null,
      "outputs": []
    },
    {
      "cell_type": "markdown",
      "metadata": {
        "id": "vUTd0DsenhOG"
      },
      "source": [
        "\n",
        "\n",
        "*  Copy BRL column into a new dataframe to better analyses of data.\n",
        "\n",
        "\n"
      ]
    },
    {
      "cell_type": "code",
      "metadata": {
        "id": "zlQRA6jXbh8f",
        "colab": {
          "base_uri": "https://localhost:8080/",
          "height": 423
        },
        "outputId": "29b0cee4-6614-4b53-8984-f7fd5b714cab"
      },
      "source": [
        "real_to_dollar_new = dollar[['Date', 'BRL']].copy()\n",
        "real_to_dollar_new"
      ],
      "execution_count": null,
      "outputs": [
        {
          "output_type": "execute_result",
          "data": {
            "text/html": [
              "<div>\n",
              "<style scoped>\n",
              "    .dataframe tbody tr th:only-of-type {\n",
              "        vertical-align: middle;\n",
              "    }\n",
              "\n",
              "    .dataframe tbody tr th {\n",
              "        vertical-align: top;\n",
              "    }\n",
              "\n",
              "    .dataframe thead th {\n",
              "        text-align: right;\n",
              "    }\n",
              "</style>\n",
              "<table border=\"1\" class=\"dataframe\">\n",
              "  <thead>\n",
              "    <tr style=\"text-align: right;\">\n",
              "      <th></th>\n",
              "      <th>Date</th>\n",
              "      <th>BRL</th>\n",
              "    </tr>\n",
              "  </thead>\n",
              "  <tbody>\n",
              "    <tr>\n",
              "      <th>1</th>\n",
              "      <td>2021-11-18</td>\n",
              "      <td>5.538915821947994</td>\n",
              "    </tr>\n",
              "    <tr>\n",
              "      <th>2</th>\n",
              "      <td>2021-11-17</td>\n",
              "      <td>5.481442205726405</td>\n",
              "    </tr>\n",
              "    <tr>\n",
              "      <th>3</th>\n",
              "      <td>2021-11-16</td>\n",
              "      <td>5.439655172413793</td>\n",
              "    </tr>\n",
              "    <tr>\n",
              "      <th>4</th>\n",
              "      <td>2021-11-15</td>\n",
              "      <td>5.457707095421181</td>\n",
              "    </tr>\n",
              "    <tr>\n",
              "      <th>5</th>\n",
              "      <td>2021-11-12</td>\n",
              "      <td>5.4072327044025155</td>\n",
              "    </tr>\n",
              "    <tr>\n",
              "      <th>...</th>\n",
              "      <td>...</td>\n",
              "      <td>...</td>\n",
              "    </tr>\n",
              "    <tr>\n",
              "      <th>5855</th>\n",
              "      <td>1999-01-08</td>\n",
              "      <td>0.0</td>\n",
              "    </tr>\n",
              "    <tr>\n",
              "      <th>5856</th>\n",
              "      <td>1999-01-07</td>\n",
              "      <td>0.0</td>\n",
              "    </tr>\n",
              "    <tr>\n",
              "      <th>5857</th>\n",
              "      <td>1999-01-06</td>\n",
              "      <td>0.0</td>\n",
              "    </tr>\n",
              "    <tr>\n",
              "      <th>5858</th>\n",
              "      <td>1999-01-05</td>\n",
              "      <td>0.0</td>\n",
              "    </tr>\n",
              "    <tr>\n",
              "      <th>5859</th>\n",
              "      <td>1999-01-04</td>\n",
              "      <td>0.0</td>\n",
              "    </tr>\n",
              "  </tbody>\n",
              "</table>\n",
              "<p>5859 rows × 2 columns</p>\n",
              "</div>"
            ],
            "text/plain": [
              "            Date                 BRL\n",
              "1     2021-11-18   5.538915821947994\n",
              "2     2021-11-17   5.481442205726405\n",
              "3     2021-11-16   5.439655172413793\n",
              "4     2021-11-15   5.457707095421181\n",
              "5     2021-11-12  5.4072327044025155\n",
              "...          ...                 ...\n",
              "5855  1999-01-08                 0.0\n",
              "5856  1999-01-07                 0.0\n",
              "5857  1999-01-06                 0.0\n",
              "5858  1999-01-05                 0.0\n",
              "5859  1999-01-04                 0.0\n",
              "\n",
              "[5859 rows x 2 columns]"
            ]
          },
          "metadata": {},
          "execution_count": 6
        }
      ]
    },
    {
      "cell_type": "markdown",
      "metadata": {
        "id": "vHUrMRFfoKdf"
      },
      "source": [
        "\n",
        "*  Convert BRL column into float and Date column into datetime shape."
      ]
    },
    {
      "cell_type": "code",
      "metadata": {
        "id": "BNAr5R44gm_w"
      },
      "source": [
        "real_to_dollar_new['BRL'] = real_to_dollar_new['BRL'].astype(float)\n",
        "real_to_dollar_new['Date'] = pd.to_datetime(real_to_dollar_new['Date'])"
      ],
      "execution_count": null,
      "outputs": []
    },
    {
      "cell_type": "code",
      "metadata": {
        "id": "dQXxsxSNcC7G"
      },
      "source": [
        "count_zero = real_to_dollar_new['BRL'].value_counts()\n",
        "count_zero"
      ],
      "execution_count": null,
      "outputs": []
    },
    {
      "cell_type": "markdown",
      "metadata": {
        "id": "eALP5B98ooJv"
      },
      "source": [
        "*  After plot the data, we realized that values beteween 2000 until 2008 were null."
      ]
    },
    {
      "cell_type": "code",
      "metadata": {
        "id": "6gIHttZoeTKs",
        "colab": {
          "base_uri": "https://localhost:8080/",
          "height": 265
        },
        "outputId": "c2f309b0-31da-4fc7-c6da-5566fb90fa79"
      },
      "source": [
        "import matplotlib.pyplot as plt\n",
        "%matplotlib inline\n",
        "\n",
        "plt.plot(real_to_dollar_new['Date'], real_to_dollar_new['BRL'])\n",
        "plt.show()"
      ],
      "execution_count": null,
      "outputs": [
        {
          "output_type": "display_data",
          "data": {
            "image/png": "[encoded data removed]",
            "text/plain": [
              "<Figure size 432x288 with 1 Axes>"
            ]
          },
          "metadata": {
            "needs_background": "light"
          }
        }
      ]
    },
    {
      "cell_type": "markdown",
      "metadata": {
        "id": "S0SgyIhspJuG"
      },
      "source": [
        "#1. Dataset 2\n",
        "###After realize the missing data beetween 2000-2008 we decided to use a previous dataset that can be found here(adicionar link) which contains daily exchange rates from multiples currency around the world beetween 2000-2019, and merge it whith dataset1."
      ]
    },
    {
      "cell_type": "code",
      "metadata": {
        "id": "e4Pcn9jYfwZj",
        "colab": {
          "base_uri": "https://localhost:8080/",
          "height": 382
        },
        "outputId": "3a297d3b-9635-4da6-cc77-aded6d14d26f"
      },
      "source": [
        "dataset2=\"/content/gdrive/MyDrive/Dataquest/Foreign_Exchange_Rates.csv\"\n",
        "real_to_dollar_old=pd.read_csv(dataset2,sep=\",\")\n",
        "real_to_dollar_old.head(5)"
      ],
      "execution_count": null,
      "outputs": [
        {
          "output_type": "execute_result",
          "data": {
            "text/html": [
              "<div>\n",
              "<style scoped>\n",
              "    .dataframe tbody tr th:only-of-type {\n",
              "        vertical-align: middle;\n",
              "    }\n",
              "\n",
              "    .dataframe tbody tr th {\n",
              "        vertical-align: top;\n",
              "    }\n",
              "\n",
              "    .dataframe thead th {\n",
              "        text-align: right;\n",
              "    }\n",
              "</style>\n",
              "<table border=\"1\" class=\"dataframe\">\n",
              "  <thead>\n",
              "    <tr style=\"text-align: right;\">\n",
              "      <th></th>\n",
              "      <th>Unnamed: 0</th>\n",
              "      <th>Time Serie</th>\n",
              "      <th>AUSTRALIA - AUSTRALIAN DOLLAR/US$</th>\n",
              "      <th>EURO AREA - EURO/US$</th>\n",
              "      <th>NEW ZEALAND - NEW ZELAND DOLLAR/US$</th>\n",
              "      <th>UNITED KINGDOM - UNITED KINGDOM POUND/US$</th>\n",
              "      <th>BRAZIL - REAL/US$</th>\n",
              "      <th>CANADA - CANADIAN DOLLAR/US$</th>\n",
              "      <th>CHINA - YUAN/US$</th>\n",
              "      <th>HONG KONG - HONG KONG DOLLAR/US$</th>\n",
              "      <th>INDIA - INDIAN RUPEE/US$</th>\n",
              "      <th>KOREA - WON/US$</th>\n",
              "      <th>MEXICO - MEXICAN PESO/US$</th>\n",
              "      <th>SOUTH AFRICA - RAND/US$</th>\n",
              "      <th>SINGAPORE - SINGAPORE DOLLAR/US$</th>\n",
              "      <th>DENMARK - DANISH KRONE/US$</th>\n",
              "      <th>JAPAN - YEN/US$</th>\n",
              "      <th>MALAYSIA - RINGGIT/US$</th>\n",
              "      <th>NORWAY - NORWEGIAN KRONE/US$</th>\n",
              "      <th>SWEDEN - KRONA/US$</th>\n",
              "      <th>SRI LANKA - SRI LANKAN RUPEE/US$</th>\n",
              "      <th>SWITZERLAND - FRANC/US$</th>\n",
              "      <th>TAIWAN - NEW TAIWAN DOLLAR/US$</th>\n",
              "      <th>THAILAND - BAHT/US$</th>\n",
              "    </tr>\n",
              "  </thead>\n",
              "  <tbody>\n",
              "    <tr>\n",
              "      <th>0</th>\n",
              "      <td>0</td>\n",
              "      <td>2000-01-03</td>\n",
              "      <td>1.5172</td>\n",
              "      <td>0.9847</td>\n",
              "      <td>1.9033</td>\n",
              "      <td>0.6146</td>\n",
              "      <td>1.805</td>\n",
              "      <td>1.4465</td>\n",
              "      <td>8.2798</td>\n",
              "      <td>7.7765</td>\n",
              "      <td>43.55</td>\n",
              "      <td>1128</td>\n",
              "      <td>9.4015</td>\n",
              "      <td>6.126</td>\n",
              "      <td>1.6563</td>\n",
              "      <td>7.329</td>\n",
              "      <td>101.7</td>\n",
              "      <td>3.8</td>\n",
              "      <td>7.964</td>\n",
              "      <td>8.443</td>\n",
              "      <td>72.3</td>\n",
              "      <td>1.5808</td>\n",
              "      <td>31.38</td>\n",
              "      <td>36.97</td>\n",
              "    </tr>\n",
              "    <tr>\n",
              "      <th>1</th>\n",
              "      <td>1</td>\n",
              "      <td>2000-01-04</td>\n",
              "      <td>1.5239</td>\n",
              "      <td>0.97</td>\n",
              "      <td>1.9238</td>\n",
              "      <td>0.6109</td>\n",
              "      <td>1.8405</td>\n",
              "      <td>1.4518</td>\n",
              "      <td>8.2799</td>\n",
              "      <td>7.7775</td>\n",
              "      <td>43.55</td>\n",
              "      <td>1122.5</td>\n",
              "      <td>9.457</td>\n",
              "      <td>6.085</td>\n",
              "      <td>1.6535</td>\n",
              "      <td>7.218</td>\n",
              "      <td>103.09</td>\n",
              "      <td>3.8</td>\n",
              "      <td>7.934</td>\n",
              "      <td>8.36</td>\n",
              "      <td>72.65</td>\n",
              "      <td>1.5565</td>\n",
              "      <td>30.6</td>\n",
              "      <td>37.13</td>\n",
              "    </tr>\n",
              "    <tr>\n",
              "      <th>2</th>\n",
              "      <td>2</td>\n",
              "      <td>2000-01-05</td>\n",
              "      <td>1.5267</td>\n",
              "      <td>0.9676</td>\n",
              "      <td>1.9339</td>\n",
              "      <td>0.6092</td>\n",
              "      <td>1.856</td>\n",
              "      <td>1.4518</td>\n",
              "      <td>8.2798</td>\n",
              "      <td>7.778</td>\n",
              "      <td>43.55</td>\n",
              "      <td>1135</td>\n",
              "      <td>9.535</td>\n",
              "      <td>6.07</td>\n",
              "      <td>1.656</td>\n",
              "      <td>7.208</td>\n",
              "      <td>103.77</td>\n",
              "      <td>3.8</td>\n",
              "      <td>7.935</td>\n",
              "      <td>8.353</td>\n",
              "      <td>72.95</td>\n",
              "      <td>1.5526</td>\n",
              "      <td>30.8</td>\n",
              "      <td>37.1</td>\n",
              "    </tr>\n",
              "    <tr>\n",
              "      <th>3</th>\n",
              "      <td>3</td>\n",
              "      <td>2000-01-06</td>\n",
              "      <td>1.5291</td>\n",
              "      <td>0.9686</td>\n",
              "      <td>1.9436</td>\n",
              "      <td>0.607</td>\n",
              "      <td>1.84</td>\n",
              "      <td>1.4571</td>\n",
              "      <td>8.2797</td>\n",
              "      <td>7.7785</td>\n",
              "      <td>43.55</td>\n",
              "      <td>1146.5</td>\n",
              "      <td>9.567</td>\n",
              "      <td>6.08</td>\n",
              "      <td>1.6655</td>\n",
              "      <td>7.2125</td>\n",
              "      <td>105.19</td>\n",
              "      <td>3.8</td>\n",
              "      <td>7.94</td>\n",
              "      <td>8.3675</td>\n",
              "      <td>72.95</td>\n",
              "      <td>1.554</td>\n",
              "      <td>31.75</td>\n",
              "      <td>37.62</td>\n",
              "    </tr>\n",
              "    <tr>\n",
              "      <th>4</th>\n",
              "      <td>4</td>\n",
              "      <td>2000-01-07</td>\n",
              "      <td>1.5272</td>\n",
              "      <td>0.9714</td>\n",
              "      <td>1.938</td>\n",
              "      <td>0.6104</td>\n",
              "      <td>1.831</td>\n",
              "      <td>1.4505</td>\n",
              "      <td>8.2794</td>\n",
              "      <td>7.7783</td>\n",
              "      <td>43.55</td>\n",
              "      <td>1138</td>\n",
              "      <td>9.52</td>\n",
              "      <td>6.057</td>\n",
              "      <td>1.6625</td>\n",
              "      <td>7.2285</td>\n",
              "      <td>105.17</td>\n",
              "      <td>3.8</td>\n",
              "      <td>7.966</td>\n",
              "      <td>8.415</td>\n",
              "      <td>73.15</td>\n",
              "      <td>1.5623</td>\n",
              "      <td>30.85</td>\n",
              "      <td>37.3</td>\n",
              "    </tr>\n",
              "  </tbody>\n",
              "</table>\n",
              "</div>"
            ],
            "text/plain": [
              "   Unnamed: 0  Time Serie  ... TAIWAN - NEW TAIWAN DOLLAR/US$ THAILAND - BAHT/US$\n",
              "0           0  2000-01-03  ...                          31.38               36.97\n",
              "1           1  2000-01-04  ...                           30.6               37.13\n",
              "2           2  2000-01-05  ...                           30.8                37.1\n",
              "3           3  2000-01-06  ...                          31.75               37.62\n",
              "4           4  2000-01-07  ...                          30.85                37.3\n",
              "\n",
              "[5 rows x 24 columns]"
            ]
          },
          "metadata": {},
          "execution_count": 9
        }
      ]
    },
    {
      "cell_type": "markdown",
      "metadata": {
        "id": "NR6fP8LLqdc_"
      },
      "source": [
        "*  Rename dataset2 column to look like the the column in the previous dataframe and the data were filtered to show only rates from USD-REAL."
      ]
    },
    {
      "cell_type": "code",
      "metadata": {
        "id": "S-wvrgZ9kXas",
        "colab": {
          "base_uri": "https://localhost:8080/",
          "height": 206
        },
        "outputId": "9343bf6e-8ec7-4fa8-a65c-2b25e49b1edc"
      },
      "source": [
        "real_to_dollar_old.rename(columns={'BRAZIL - REAL/US$': 'BRL',\n",
        "                               'Time Serie': 'Date'},inplace=True)\n",
        "real_to_dollar_old['Date'] = pd.to_datetime(real_to_dollar_old['Date'])\n",
        "real_to_dollar_old.sort_values(\"Date\", inplace=True,ascending=False)\n",
        "real_to_dollar_old.reset_index(drop=True, inplace=True)\n",
        "real_to_dollar_old = real_to_dollar_old[['Date', 'BRL']].copy()\n",
        "real_to_dollar_old.tail(5)"
      ],
      "execution_count": null,
      "outputs": [
        {
          "output_type": "execute_result",
          "data": {
            "text/html": [
              "<div>\n",
              "<style scoped>\n",
              "    .dataframe tbody tr th:only-of-type {\n",
              "        vertical-align: middle;\n",
              "    }\n",
              "\n",
              "    .dataframe tbody tr th {\n",
              "        vertical-align: top;\n",
              "    }\n",
              "\n",
              "    .dataframe thead th {\n",
              "        text-align: right;\n",
              "    }\n",
              "</style>\n",
              "<table border=\"1\" class=\"dataframe\">\n",
              "  <thead>\n",
              "    <tr style=\"text-align: right;\">\n",
              "      <th></th>\n",
              "      <th>Date</th>\n",
              "      <th>BRL</th>\n",
              "    </tr>\n",
              "  </thead>\n",
              "  <tbody>\n",
              "    <tr>\n",
              "      <th>5212</th>\n",
              "      <td>2000-01-07</td>\n",
              "      <td>1.831</td>\n",
              "    </tr>\n",
              "    <tr>\n",
              "      <th>5213</th>\n",
              "      <td>2000-01-06</td>\n",
              "      <td>1.84</td>\n",
              "    </tr>\n",
              "    <tr>\n",
              "      <th>5214</th>\n",
              "      <td>2000-01-05</td>\n",
              "      <td>1.856</td>\n",
              "    </tr>\n",
              "    <tr>\n",
              "      <th>5215</th>\n",
              "      <td>2000-01-04</td>\n",
              "      <td>1.8405</td>\n",
              "    </tr>\n",
              "    <tr>\n",
              "      <th>5216</th>\n",
              "      <td>2000-01-03</td>\n",
              "      <td>1.805</td>\n",
              "    </tr>\n",
              "  </tbody>\n",
              "</table>\n",
              "</div>"
            ],
            "text/plain": [
              "           Date     BRL\n",
              "5212 2000-01-07   1.831\n",
              "5213 2000-01-06    1.84\n",
              "5214 2000-01-05   1.856\n",
              "5215 2000-01-04  1.8405\n",
              "5216 2000-01-03   1.805"
            ]
          },
          "metadata": {},
          "execution_count": 10
        }
      ]
    },
    {
      "cell_type": "markdown",
      "metadata": {
        "id": "A_LtGFIGrpZt"
      },
      "source": [
        "*  Filter the dataset2 to only show  values there were missing in dataset1."
      ]
    },
    {
      "cell_type": "code",
      "metadata": {
        "id": "WOANG08SoYZQ"
      },
      "source": [
        "real_to_dollar_old=real_to_dollar_old[(real_to_dollar_old['Date'].dt.year < 2009) & (real_to_dollar_old['Date'].dt.year > 1994)]\n",
        "real_to_dollar_new=real_to_dollar_new[(real_to_dollar_new['Date'].dt.year > 2008)]\n",
        "real_to_dollar_old= real_to_dollar_old.drop(real_to_dollar_old[real_to_dollar_old[\"BRL\"]== \"ND\"].index, inplace=False)\n",
        "#real_to_dollar_old = real_to_dollar_old.fillna(0, inplace=True)\n",
        "#real_to_dollar_old['BRL'] = real_to_dollar_old['BRL'].astype(float)"
      ],
      "execution_count": null,
      "outputs": []
    },
    {
      "cell_type": "code",
      "metadata": {
        "id": "Dcb84o9E2yhC",
        "colab": {
          "base_uri": "https://localhost:8080/",
          "height": 292
        },
        "outputId": "737717d3-1b6b-4fe1-9f3a-49d1f58a0da3"
      },
      "source": [
        "real_to_dollar_old.describe()"
      ],
      "execution_count": null,
      "outputs": [
        {
          "output_type": "stream",
          "name": "stderr",
          "text": [
            "/usr/local/lib/python3.7/dist-packages/ipykernel_launcher.py:1: FutureWarning: Treating datetime data as categorical rather than numeric in `.describe` is deprecated and will be removed in a future version of pandas. Specify `datetime_is_numeric=True` to silence this warning and adopt the future behavior now.\n",
            "  \"\"\"Entry point for launching an IPython kernel.\n"
          ]
        },
        {
          "output_type": "execute_result",
          "data": {
            "text/html": [
              "<div>\n",
              "<style scoped>\n",
              "    .dataframe tbody tr th:only-of-type {\n",
              "        vertical-align: middle;\n",
              "    }\n",
              "\n",
              "    .dataframe tbody tr th {\n",
              "        vertical-align: top;\n",
              "    }\n",
              "\n",
              "    .dataframe thead th {\n",
              "        text-align: right;\n",
              "    }\n",
              "</style>\n",
              "<table border=\"1\" class=\"dataframe\">\n",
              "  <thead>\n",
              "    <tr style=\"text-align: right;\">\n",
              "      <th></th>\n",
              "      <th>Date</th>\n",
              "      <th>BRL</th>\n",
              "    </tr>\n",
              "  </thead>\n",
              "  <tbody>\n",
              "    <tr>\n",
              "      <th>count</th>\n",
              "      <td>2265</td>\n",
              "      <td>2265</td>\n",
              "    </tr>\n",
              "    <tr>\n",
              "      <th>unique</th>\n",
              "      <td>2265</td>\n",
              "      <td>1651</td>\n",
              "    </tr>\n",
              "    <tr>\n",
              "      <th>top</th>\n",
              "      <td>2006-07-20 00:00:00</td>\n",
              "      <td>1.805</td>\n",
              "    </tr>\n",
              "    <tr>\n",
              "      <th>freq</th>\n",
              "      <td>1</td>\n",
              "      <td>10</td>\n",
              "    </tr>\n",
              "    <tr>\n",
              "      <th>first</th>\n",
              "      <td>2000-01-03 00:00:00</td>\n",
              "      <td>NaN</td>\n",
              "    </tr>\n",
              "    <tr>\n",
              "      <th>last</th>\n",
              "      <td>2008-12-31 00:00:00</td>\n",
              "      <td>NaN</td>\n",
              "    </tr>\n",
              "  </tbody>\n",
              "</table>\n",
              "</div>"
            ],
            "text/plain": [
              "                       Date    BRL\n",
              "count                  2265   2265\n",
              "unique                 2265   1651\n",
              "top     2006-07-20 00:00:00  1.805\n",
              "freq                      1     10\n",
              "first   2000-01-03 00:00:00    NaN\n",
              "last    2008-12-31 00:00:00    NaN"
            ]
          },
          "metadata": {},
          "execution_count": 11
        }
      ]
    },
    {
      "cell_type": "code",
      "metadata": {
        "id": "g2GfeQb00kB7",
        "colab": {
          "base_uri": "https://localhost:8080/"
        },
        "outputId": "81ae05f0-0c87-491f-a2c0-08c4e165dbef"
      },
      "source": [
        "\n",
        "count_ND = real_to_dollar_old['BRL'].value_counts()\n",
        "count_ND"
      ],
      "execution_count": null,
      "outputs": [
        {
          "output_type": "execute_result",
          "data": {
            "text/plain": [
              "1.805     10\n",
              "2.945      7\n",
              "2.871      6\n",
              "2.141      6\n",
              "2.907      6\n",
              "          ..\n",
              "2.85       1\n",
              "2.67       1\n",
              "2.5728     1\n",
              "2.1346     1\n",
              "3.1365     1\n",
              "Name: BRL, Length: 1651, dtype: int64"
            ]
          },
          "metadata": {},
          "execution_count": 11
        }
      ]
    },
    {
      "cell_type": "markdown",
      "metadata": {
        "id": "An4fBDqtsAaP"
      },
      "source": [
        "*  Merge both dataframes."
      ]
    },
    {
      "cell_type": "code",
      "metadata": {
        "id": "cWnjoqnKkSya",
        "colab": {
          "base_uri": "https://localhost:8080/",
          "height": 423
        },
        "outputId": "0831ed3d-5e66-48cf-8879-2bb0a55587be"
      },
      "source": [
        "\n",
        "frames = [real_to_dollar_new, real_to_dollar_old]\n",
        "\n",
        "real_to_dollar = pd.concat(frames)\n",
        "real_to_dollar"
      ],
      "execution_count": null,
      "outputs": [
        {
          "output_type": "execute_result",
          "data": {
            "text/html": [
              "<div>\n",
              "<style scoped>\n",
              "    .dataframe tbody tr th:only-of-type {\n",
              "        vertical-align: middle;\n",
              "    }\n",
              "\n",
              "    .dataframe tbody tr th {\n",
              "        vertical-align: top;\n",
              "    }\n",
              "\n",
              "    .dataframe thead th {\n",
              "        text-align: right;\n",
              "    }\n",
              "</style>\n",
              "<table border=\"1\" class=\"dataframe\">\n",
              "  <thead>\n",
              "    <tr style=\"text-align: right;\">\n",
              "      <th></th>\n",
              "      <th>Date</th>\n",
              "      <th>BRL</th>\n",
              "    </tr>\n",
              "  </thead>\n",
              "  <tbody>\n",
              "    <tr>\n",
              "      <th>1</th>\n",
              "      <td>2021-11-18</td>\n",
              "      <td>5.53892</td>\n",
              "    </tr>\n",
              "    <tr>\n",
              "      <th>2</th>\n",
              "      <td>2021-11-17</td>\n",
              "      <td>5.48144</td>\n",
              "    </tr>\n",
              "    <tr>\n",
              "      <th>3</th>\n",
              "      <td>2021-11-16</td>\n",
              "      <td>5.43966</td>\n",
              "    </tr>\n",
              "    <tr>\n",
              "      <th>4</th>\n",
              "      <td>2021-11-15</td>\n",
              "      <td>5.45771</td>\n",
              "    </tr>\n",
              "    <tr>\n",
              "      <th>5</th>\n",
              "      <td>2021-11-12</td>\n",
              "      <td>5.40723</td>\n",
              "    </tr>\n",
              "    <tr>\n",
              "      <th>...</th>\n",
              "      <td>...</td>\n",
              "      <td>...</td>\n",
              "    </tr>\n",
              "    <tr>\n",
              "      <th>5212</th>\n",
              "      <td>2000-01-07</td>\n",
              "      <td>1.831</td>\n",
              "    </tr>\n",
              "    <tr>\n",
              "      <th>5213</th>\n",
              "      <td>2000-01-06</td>\n",
              "      <td>1.84</td>\n",
              "    </tr>\n",
              "    <tr>\n",
              "      <th>5214</th>\n",
              "      <td>2000-01-05</td>\n",
              "      <td>1.856</td>\n",
              "    </tr>\n",
              "    <tr>\n",
              "      <th>5215</th>\n",
              "      <td>2000-01-04</td>\n",
              "      <td>1.8405</td>\n",
              "    </tr>\n",
              "    <tr>\n",
              "      <th>5216</th>\n",
              "      <td>2000-01-03</td>\n",
              "      <td>1.805</td>\n",
              "    </tr>\n",
              "  </tbody>\n",
              "</table>\n",
              "<p>5564 rows × 2 columns</p>\n",
              "</div>"
            ],
            "text/plain": [
              "           Date      BRL\n",
              "1    2021-11-18  5.53892\n",
              "2    2021-11-17  5.48144\n",
              "3    2021-11-16  5.43966\n",
              "4    2021-11-15  5.45771\n",
              "5    2021-11-12  5.40723\n",
              "...         ...      ...\n",
              "5212 2000-01-07    1.831\n",
              "5213 2000-01-06     1.84\n",
              "5214 2000-01-05    1.856\n",
              "5215 2000-01-04   1.8405\n",
              "5216 2000-01-03    1.805\n",
              "\n",
              "[5564 rows x 2 columns]"
            ]
          },
          "metadata": {},
          "execution_count": 12
        }
      ]
    },
    {
      "cell_type": "markdown",
      "metadata": {
        "id": "TqFnhCimsF_y"
      },
      "source": [
        "*  Plot the complete USD-REAL between 2000-2021."
      ]
    },
    {
      "cell_type": "code",
      "metadata": {
        "id": "Q9tkr2l9wKvl",
        "colab": {
          "base_uri": "https://localhost:8080/",
          "height": 265
        },
        "outputId": "467267a6-748d-456a-bc1c-7a2fbacae4a5"
      },
      "source": [
        "import matplotlib.pyplot as plt\n",
        "%matplotlib inline\n",
        "plt.plot(real_to_dollar['Date'], real_to_dollar['BRL'])\n",
        "plt.show()"
      ],
      "execution_count": null,
      "outputs": [
        {
          "output_type": "display_data",
          "data": {
            "image/png": "[encoded data removed]",
            "text/plain": [
              "<Figure size 432x288 with 1 Axes>"
            ]
          },
          "metadata": {
            "needs_background": "light"
          }
        }
      ]
    },
    {
      "cell_type": "markdown",
      "metadata": {
        "id": "hwCrwZcnsgww"
      },
      "source": [
        "#2. Visualization\n",
        "###For a better analyses we decidided to divide the graph into periods based on each president government of Brasil.\n",
        "*  First of all, we have to divide the merged dataframe into the period of 5 presidents government in Brasil between 2000-2021."
      ]
    },
    {
      "cell_type": "code",
      "metadata": {
        "id": "tac8YG9-zVHV",
        "colab": {
          "base_uri": "https://localhost:8080/",
          "height": 206
        },
        "outputId": "a75e2890-792e-4665-95ea-94b79f1b4138"
      },
      "source": [
        "Real_Brasil = real_to_dollar.copy(\n",
        "                   )[(real_to_dollar['Date'].dt.year >= 2000)]\n",
        "FHC = real_to_dollar.copy(\n",
        "                   )[(real_to_dollar['Date'].dt.year >= 2000) & (real_to_dollar['Date'].dt.year < 2003)]\n",
        "LULA = real_to_dollar.copy(\n",
        "       )[(real_to_dollar['Date'].dt.year >= 2003) & (real_to_dollar['Date'].dt.year < 2011)]\n",
        "DILMA= real_to_dollar.copy(\n",
        "       )[(real_to_dollar['Date'].dt.year >= 2010) & (real_to_dollar['Date'].dt.year < 2017)]\n",
        "TEMER = real_to_dollar.copy(\n",
        "       )[(real_to_dollar['Date'].dt.year >= 2017) & (real_to_dollar['Date'].dt.year < 2018)]\n",
        "BOLSONARO = real_to_dollar.copy(\n",
        "       )[(real_to_dollar['Date'].dt.year >= 2018) ]\n",
        "FHC.head(5)"
      ],
      "execution_count": null,
      "outputs": [
        {
          "output_type": "execute_result",
          "data": {
            "text/html": [
              "<div>\n",
              "<style scoped>\n",
              "    .dataframe tbody tr th:only-of-type {\n",
              "        vertical-align: middle;\n",
              "    }\n",
              "\n",
              "    .dataframe tbody tr th {\n",
              "        vertical-align: top;\n",
              "    }\n",
              "\n",
              "    .dataframe thead th {\n",
              "        text-align: right;\n",
              "    }\n",
              "</style>\n",
              "<table border=\"1\" class=\"dataframe\">\n",
              "  <thead>\n",
              "    <tr style=\"text-align: right;\">\n",
              "      <th></th>\n",
              "      <th>Date</th>\n",
              "      <th>BRL</th>\n",
              "    </tr>\n",
              "  </thead>\n",
              "  <tbody>\n",
              "    <tr>\n",
              "      <th>4435</th>\n",
              "      <td>2002-12-31</td>\n",
              "      <td>3.54</td>\n",
              "    </tr>\n",
              "    <tr>\n",
              "      <th>4436</th>\n",
              "      <td>2002-12-30</td>\n",
              "      <td>3.545</td>\n",
              "    </tr>\n",
              "    <tr>\n",
              "      <th>4437</th>\n",
              "      <td>2002-12-27</td>\n",
              "      <td>3.554</td>\n",
              "    </tr>\n",
              "    <tr>\n",
              "      <th>4438</th>\n",
              "      <td>2002-12-26</td>\n",
              "      <td>3.541</td>\n",
              "    </tr>\n",
              "    <tr>\n",
              "      <th>4440</th>\n",
              "      <td>2002-12-24</td>\n",
              "      <td>3.51</td>\n",
              "    </tr>\n",
              "  </tbody>\n",
              "</table>\n",
              "</div>"
            ],
            "text/plain": [
              "           Date    BRL\n",
              "4435 2002-12-31   3.54\n",
              "4436 2002-12-30  3.545\n",
              "4437 2002-12-27  3.554\n",
              "4438 2002-12-26  3.541\n",
              "4440 2002-12-24   3.51"
            ]
          },
          "metadata": {},
          "execution_count": 14
        }
      ]
    },
    {
      "cell_type": "markdown",
      "metadata": {
        "id": "OCFDtD6ct4_h"
      },
      "source": [
        "*  We used the rolling mean to reduce in half the amount of data for better visualization."
      ]
    },
    {
      "cell_type": "code",
      "metadata": {
        "id": "Y_FT9zwgfhsc"
      },
      "source": [
        "FHC['BRL'] = FHC['BRL'].rolling(2).mean()\n",
        "LULA['BRL'] = LULA['BRL'].rolling(2).mean()\n",
        "DILMA['BRL'] = DILMA['BRL'].rolling(2).mean()\n",
        "TEMER['BRL'] = TEMER['BRL'].rolling(2).mean()\n",
        "BOLSONARO['BRL'] = BOLSONARO['BRL'].rolling(2).mean()\n",
        "#plt.plot(FHC['Date'], FHC['BRL'])\n",
        "#plt.show()"
      ],
      "execution_count": null,
      "outputs": []
    },
    {
      "cell_type": "markdown",
      "metadata": {
        "id": "vFqDMa9HuM7a"
      },
      "source": [
        "*  Finally we obtained the main graphic."
      ]
    },
    {
      "cell_type": "code",
      "metadata": {
        "id": "0U0MPnf58xLR",
        "colab": {
          "base_uri": "https://localhost:8080/",
          "height": 581
        },
        "outputId": "d08a1f05-8af2-465f-9d58-158ce5c898f8"
      },
      "source": [
        "import matplotlib.style as style\n",
        "### Adding the FiveThirtyEight style\n",
        "style.use('fivethirtyeight')\n",
        "\n",
        "### Adding the subplots\n",
        "plt.figure(figsize=(18, 8))\n",
        "ax1 = plt.subplot(2,5,1)\n",
        "ax2 = plt.subplot(2,5,2)\n",
        "ax3 = plt.subplot(2,5,3)\n",
        "ax4 = plt.subplot(2,5,4)\n",
        "ax5 = plt.subplot(2,5,5)\n",
        "ax6 = plt.subplot(2,1,2)\n",
        "axes = [ax1, ax2, ax3, ax4, ax5, ax6]\n",
        "\n",
        "### Changes to all the subplots\n",
        "for ax in axes:\n",
        "    ax.set_ylim(0.5, 2.0)\n",
        "    ax.set_yticks([1.0, 2.0, 3.5, 5.0, 6.0])\n",
        "    ax.set_yticklabels(['1.0', '2.0','3.5', '5.0','6.0'],\n",
        "                   alpha=0.3)\n",
        "    ax.set_xticklabels([])\n",
        "    ax.grid(alpha=0.5)    \n",
        "    \n",
        "\n",
        "### Ax1: FHC\n",
        "ax1.plot(FHC['Date'], FHC['BRL'],\n",
        "        color='#BF5FFF')\n",
        "ax1.set_xticklabels(['', '2000', '','','', '2001', '','','', '2002'],\n",
        "                   alpha=0.3)\n",
        "ax1.text(730516.0, 6.92, 'FHC', fontsize=18, weight='bold',\n",
        "        color='#BF5FFF')\n",
        "ax1.text(730380.0, 6.3, '(2000-2002)', weight='bold',\n",
        "        alpha=0.3)\n",
        "\n",
        "\n",
        "### Ax2: Lula\n",
        "ax2.plot(LULA['Date'], LULA['BRL'],\n",
        "        color='#ffa500')\n",
        "ax2.set_xticklabels(['', '2002', '', '2004', '', '2006', '',\n",
        "                     '2008', '', '2010'],\n",
        "                   alpha=0.3)\n",
        "ax2.text(732288.0, 6.92, 'LULA', fontsize=18, weight='bold',\n",
        "        color='#ffa500')\n",
        "ax2.text(732038.0, 6.3, '(2003-2008)', weight='bold',\n",
        "         alpha=0.3)\n",
        "\n",
        "\n",
        "### Ax3: Dilma\n",
        "ax3.plot(DILMA['Date'], DILMA['BRL'],\n",
        "        color='#646464')\n",
        "ax3.set_xticklabels(['','2010', '','','2013', '',\n",
        "                     '', '','2016'],\n",
        "                   alpha=0.3)\n",
        "ax3.text(734705.0, 6.92, 'DILMA', fontsize=18, weight='bold',\n",
        "        color='#646464')\n",
        "ax3.text(734485.0, 6.3, '(2011-2016)', weight='bold',\n",
        "         alpha=0.3)\n",
        "\n",
        "### Ax4: Temer\n",
        "ax4.plot(TEMER['Date'], TEMER['BRL'],\n",
        "        color='#86BE3C')\n",
        "ax4.set_xticklabels(['', '2017', '', '',\n",
        "                     '', '2018', ''],\n",
        "                   alpha=0.3)\n",
        "ax4.text(736445.0, 6.92, 'TEMER', fontsize=18, weight='bold',\n",
        "        color='#86BE3C')\n",
        "ax4.text(736420.0, 6.3, '(2017-2018)', weight='bold',\n",
        "         alpha=0.3)\n",
        "### Ax5: Bolsonaro\n",
        "ax5.plot(BOLSONARO['Date'], BOLSONARO['BRL'],\n",
        "        color='#C33734')\n",
        "ax5.set_xticklabels(['', '2019', '','', '2020', '','','2021', ''],\n",
        "                   alpha=0.3)\n",
        "ax5.text(737000.0, 6.92, 'BOLSONARO', fontsize=18, weight='bold',\n",
        "        color='#00B2EE')\n",
        "ax5.text(737100.0, 6.3, '(2019-2021)', weight='bold',\n",
        "         alpha=0.3)\n",
        "### Ax6: Presidentes\n",
        "ax6.plot(FHC['Date'], FHC['BRL'],\n",
        "        color='#BF5FFF')\n",
        "ax6.plot(LULA['Date'], LULA['BRL'],\n",
        "        color='#ffa500')\n",
        "ax6.plot(DILMA['Date'], DILMA['BRL'],\n",
        "        color='#646464')\n",
        "ax6.plot(TEMER['Date'], TEMER['BRL'],\n",
        "        color='#86BE3C')\n",
        "ax6.plot(BOLSONARO['Date'], BOLSONARO['BRL'],\n",
        "        color='#C33734')\n",
        "ax6.grid(alpha=0.5)\n",
        "ax6.set_xticks([])\n",
        "### Adding a title and a subtitle\n",
        "ax1.text(730016.0, 9.35, 'COTAÇÃO USD-REAL ENTRE 2000-2021',\n",
        "         fontsize=20, weight='bold')\n",
        "ax1.text(730016.0, 8.14, '''EURO-USD taxas de câmbio para o governo FHC (2000 - 2002), LULA (2002-2010),\n",
        "Dilma (2010-2016), Temer(2017-2018), Bolsonaro(2018-2021)''',\n",
        "        fontsize=16)\n",
        "\n",
        "### Adding a signature\n",
        "ax6.text(729916.0, 0.65, 'DCA0305' + ' '*190 + 'Arthur França/Thiago Maia',\n",
        "        color = '#f0f0f0', backgroundcolor = '#4d4d4d',\n",
        "        size=14)\n",
        "\n",
        "plt.savefig(\"presidentes.png\")"
      ],
      "execution_count": null,
      "outputs": [
        {
          "output_type": "display_data",
          "data": {
            "image/png": "[encoded data removed]",
            "text/plain": [
              "<Figure size 1296x576 with 6 Axes>"
            ]
          },
          "metadata": {}
        }
      ]
    },
    {
      "cell_type": "code",
      "metadata": {
        "id": "bMGr5USl7_U0"
      },
      "source": [
        "crises_covid = real_to_dollar.copy(\n",
        "                   )[(real_to_dollar['Date'].dt.year >= 2016) & (real_to_dollar['Date'].dt.year < 2021)]\n",
        "crises_covid_19_20 = real_to_dollar.copy(\n",
        "                   )[(real_to_dollar['Date'].dt.year >= 2019) & (real_to_dollar['Date'].dt.year < 2021)]"
      ],
      "execution_count": null,
      "outputs": []
    },
    {
      "cell_type": "markdown",
      "metadata": {
        "id": "pD0J_HPmcfLf"
      },
      "source": [
        "#3. Crises Visualization\n",
        "###Now we made a graphic focusing in the peak of the coronavirus in Brasil, to analyse how it afects the REAL."
      ]
    },
    {
      "cell_type": "code",
      "metadata": {
        "colab": {
          "base_uri": "https://localhost:8080/",
          "height": 557
        },
        "id": "E7RhHWmAOoI6",
        "outputId": "143b91ca-a673-473a-b392-d7e95e545e96"
      },
      "source": [
        "import matplotlib.style as style\n",
        "style.use('fivethirtyeight')\n",
        "\n",
        "### Adding the plot\n",
        "fig,ax = plt.subplots(figsize=(18,8))\n",
        "ax.plot(crises_covid['Date'],\n",
        "        crises_covid['BRL'],\n",
        "        linewidth=1, color='#A6D785')\n",
        "\n",
        "### Highlighting the 2007-2008 period\n",
        "ax.plot(crises_covid_19_20['Date'],\n",
        "        crises_covid_19_20['BRL'],\n",
        "        linewidth=3, color='#e23d28')\n",
        "\n",
        "### Highlihting the peak of the crisis\n",
        "ax.axvspan(xmin=737412.0, xmax=737602.0, ymin=0.03,\n",
        "           alpha=0.3, color='grey')\n",
        "    \n",
        "### Adding separate tick labels\n",
        "ax.set_xticklabels([])\n",
        "ax.set_yticklabels([])\n",
        "\n",
        "x = 735945.0\n",
        "for year in ['2016', '2017', '2018', '2019', '2020','2021']:\n",
        "    ax.text(x, 2.75, year, alpha=0.5, fontsize=16)\n",
        "    x += 365\n",
        "\n",
        "y = 3.05   \n",
        "for rate in ['3.0', '4.0', '5.0', '6.0']:\n",
        "    ax.text(735800.0, y, rate, alpha=0.5, fontsize=16)\n",
        "    y += 1.0\n",
        "\n",
        "## Adding a title and a subtitle    \n",
        "ax.text(735800.0, 6.67, \"Real-USD rate peaked at 5.88 during 2020's Covid crises\",\n",
        "        weight='bold',fontsize=18)\n",
        "ax.text(735800, 6.40, 'Real-USD exchange rates between 2016 and 2021',\n",
        "        size=16)\n",
        "plt.savefig(\"Crise_covid.png\")"
      ],
      "execution_count": null,
      "outputs": [
        {
          "output_type": "display_data",
          "data": {
            "image/png": "[encoded data removed]",
            "text/plain": [
              "<Figure size 1296x576 with 1 Axes>"
            ]
          },
          "metadata": {}
        }
      ]
    }
  ]
}